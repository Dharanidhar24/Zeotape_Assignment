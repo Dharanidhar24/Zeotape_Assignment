{
  "nbformat": 4,
  "nbformat_minor": 0,
  "metadata": {
    "colab": {
      "provenance": []
    },
    "kernelspec": {
      "name": "python3",
      "display_name": "Python 3"
    },
    "language_info": {
      "name": "python"
    }
  },
  "cells": [
    {
      "cell_type": "code",
      "source": [
        "import pandas as pd\n",
        "from sklearn.metrics.pairwise import cosine_similarity\n",
        "from sklearn.preprocessing import OneHotEncoder, StandardScaler\n",
        "\n",
        "# Load datasets\n",
        "customers = pd.read_csv('Customers.csv')\n",
        "transactions = pd.read_csv('Transactions.csv')\n",
        "products = pd.read_csv('Products.csv')\n",
        "\n",
        "# Merge datasets\n",
        "data = pd.merge(transactions, customers, on='CustomerID')\n",
        "data = pd.merge(data, products, on='ProductID')\n",
        "\n",
        "# Feature Engineering\n",
        "# Total revenue per customer\n",
        "customer_revenue = data.groupby('CustomerID')['TotalValue'].sum().reset_index()\n",
        "customer_revenue.rename(columns={'TotalValue': 'TotalRevenue'}, inplace=True)\n",
        "\n",
        "# Number of transactions per customer\n",
        "customer_transactions = data.groupby('CustomerID')['TransactionID'].count().reset_index()\n",
        "customer_transactions.rename(columns={'TransactionID': 'NumTransactions'}, inplace=True)\n",
        "\n",
        "# Average transaction value per customer\n",
        "customer_avg_value = data.groupby('CustomerID')['TotalValue'].mean().reset_index()\n",
        "customer_avg_value.rename(columns={'TotalValue': 'AvgTransactionValue'}, inplace=True)\n",
        "\n",
        "# Preferred product category per customer\n",
        "preferred_category = data.groupby(['CustomerID', 'Category']).size().reset_index(name='Count')\n",
        "preferred_category = preferred_category.loc[preferred_category.groupby('CustomerID')['Count'].idxmax()]\n",
        "preferred_category = preferred_category[['CustomerID', 'Category']]\n",
        "\n",
        "# Merge features into a single DataFrame\n",
        "customer_features = pd.merge(customers, customer_revenue, on='CustomerID')\n",
        "customer_features = pd.merge(customer_features, customer_transactions, on='CustomerID')\n",
        "customer_features = pd.merge(customer_features, customer_avg_value, on='CustomerID')\n",
        "customer_features = pd.merge(customer_features, preferred_category, on='CustomerID')\n",
        "\n",
        "# Encode categorical variables\n",
        "encoder = OneHotEncoder()\n",
        "categorical_features = encoder.fit_transform(customer_features[['Region', 'Category']]).toarray()\n",
        "\n",
        "# Scale numerical features\n",
        "scaler = StandardScaler()\n",
        "numerical_features = scaler.fit_transform(customer_features[['TotalRevenue', 'NumTransactions', 'AvgTransactionValue']])\n",
        "\n",
        "# Combine numerical and categorical features into a single matrix\n",
        "features = pd.concat([pd.DataFrame(numerical_features), pd.DataFrame(categorical_features)], axis=1)\n",
        "\n",
        "# Compute similarity scores\n",
        "similarity_matrix = cosine_similarity(features)\n",
        "\n",
        "# Get top 3 lookalikes for the first 20 customers\n",
        "lookalike_map = {}\n",
        "for i, customer_id in enumerate(customer_features['CustomerID'][:20]):\n",
        "    # Get similarity scores for the current customer\n",
        "    scores = list(enumerate(similarity_matrix[i]))\n",
        "    # Sort by score in descending order, exclude self (score = 1)\n",
        "    scores = sorted(scores, key=lambda x: x[1], reverse=True)[1:4]\n",
        "    # Map top 3 lookalikes with similarity scores\n",
        "    lookalike_map[customer_id] = [(customer_features['CustomerID'][j], round(score, 2)) for j, score in scores]\n",
        "\n",
        "# Create a DataFrame for better output formatting\n",
        "lookalike_df = pd.DataFrame.from_dict(lookalike_map, orient='index', columns=['Lookalike1', 'Lookalike2', 'Lookalike3'])\n",
        "\n",
        "# Print the DataFrame\n",
        "print(lookalike_df)\n",
        "\n",
        "# Save the lookalike map to a CSV file\n",
        "lookalike_df.to_csv('Lookalike.csv', index_label='CustomerID')"
      ],
      "metadata": {
        "colab": {
          "base_uri": "https://localhost:8080/"
        },
        "id": "xUPSlbfWDuh4",
        "outputId": "f5ebeee6-cbaa-4f85-b77e-7261ba77cb7b"
      },
      "execution_count": 5,
      "outputs": [
        {
          "output_type": "stream",
          "name": "stdout",
          "text": [
            "          Lookalike1     Lookalike2     Lookalike3\n",
            "C0001  (C0190, 0.97)  (C0048, 0.94)  (C0181, 0.91)\n",
            "C0002  (C0088, 0.97)  (C0134, 0.94)   (C0106, 0.9)\n",
            "C0003  (C0052, 0.98)  (C0152, 0.93)  (C0031, 0.89)\n",
            "C0004  (C0165, 0.97)  (C0155, 0.96)  (C0169, 0.89)\n",
            "C0005  (C0186, 0.98)  (C0146, 0.96)   (C0007, 0.9)\n",
            "C0006  (C0168, 0.97)  (C0171, 0.95)  (C0187, 0.94)\n",
            "C0007  (C0140, 0.98)  (C0115, 0.93)   (C0005, 0.9)\n",
            "C0008  (C0109, 0.87)  (C0139, 0.81)  (C0098, 0.79)\n",
            "C0009  (C0010, 0.98)  (C0198, 0.95)  (C0062, 0.93)\n",
            "C0010  (C0009, 0.98)  (C0111, 0.97)  (C0103, 0.96)\n",
            "C0011  (C0137, 0.96)  (C0169, 0.92)  (C0126, 0.92)\n",
            "C0012  (C0104, 0.97)  (C0113, 0.93)  (C0195, 0.91)\n",
            "C0013  (C0099, 0.99)  (C0108, 0.92)  (C0141, 0.84)\n",
            "C0014  (C0060, 0.98)  (C0151, 0.91)   (C0097, 0.9)\n",
            "C0015  (C0036, 0.98)  (C0131, 0.97)  (C0058, 0.84)\n",
            "C0016   (C0183, 1.0)  (C0067, 0.92)  (C0042, 0.75)\n",
            "C0017  (C0075, 0.97)  (C0081, 0.86)  (C0057, 0.85)\n",
            "C0018  (C0117, 0.95)  (C0185, 0.84)  (C0046, 0.83)\n",
            "C0019   (C0121, 0.9)  (C0081, 0.83)  (C0119, 0.78)\n",
            "C0020  (C0050, 0.85)  (C0140, 0.84)  (C0130, 0.76)\n"
          ]
        }
      ]
    }
  ]
}